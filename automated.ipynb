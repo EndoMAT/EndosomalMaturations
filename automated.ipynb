{
 "cells": [
  {
   "cell_type": "markdown",
   "id": "125137c4",
   "metadata": {
    "jp-MarkdownHeadingCollapsed": true,
    "tags": []
   },
   "source": [
    "# 1. Initialize notebook"
   ]
  },
  {
   "cell_type": "markdown",
   "id": "421f1ee9-50c7-4268-80d2-4eb63050deea",
   "metadata": {},
   "source": [
    "## Import libraries"
   ]
  },
  {
   "cell_type": "code",
   "execution_count": null,
   "id": "d1cf8834",
   "metadata": {},
   "outputs": [],
   "source": [
    "from data_collections import *\n",
    "from image_analysis import *\n",
    "from event_detection import *"
   ]
  },
  {
   "cell_type": "markdown",
   "id": "3b5250cb-334c-47dc-9958-a3aed208d588",
   "metadata": {},
   "source": [
    "## Load analysis parameters"
   ]
  },
  {
   "cell_type": "code",
   "execution_count": null,
   "id": "c0371bed-5f3f-4369-be25-09146a7108cd",
   "metadata": {},
   "outputs": [],
   "source": [
    "with open('parameters.json', 'r') as f:\n",
    "    parameters = json.load(f)"
   ]
  },
  {
   "cell_type": "markdown",
   "id": "7bad3401",
   "metadata": {
    "tags": []
   },
   "source": [
    "## Set global constants"
   ]
  },
  {
   "cell_type": "code",
   "execution_count": null,
   "id": "f43bca53-5ffb-4ab2-91b2-32f8abbc6037",
   "metadata": {},
   "outputs": [],
   "source": [
    "# Set top data directory\n",
    "top_dir = ''\n",
    "\n",
    "# Save data channels\n",
    "channels = parameters['channels']"
   ]
  },
  {
   "cell_type": "markdown",
   "id": "d5aad0af-a652-4101-9cd4-09ac8710666c",
   "metadata": {
    "jp-MarkdownHeadingCollapsed": true,
    "tags": []
   },
   "source": [
    "# 2. Load experiments"
   ]
  },
  {
   "cell_type": "markdown",
   "id": "d89e3f24-ed24-4b83-bca5-befdb04394fa",
   "metadata": {},
   "source": [
    "## Log experiments to database"
   ]
  },
  {
   "cell_type": "code",
   "execution_count": null,
   "id": "a6d2534c",
   "metadata": {},
   "outputs": [],
   "source": [
    "# Load and save metadata for all experiments\n",
    "log_movies(top_dir, parameters['channel_aliases'], overwrite=parameters['overwrite'])\n",
    "\n",
    "# Preview current database\n",
    "preview_database()"
   ]
  },
  {
   "cell_type": "markdown",
   "id": "4314949b",
   "metadata": {
    "tags": []
   },
   "source": [
    "## Set data to analyze"
   ]
  },
  {
   "cell_type": "code",
   "execution_count": null,
   "id": "73fbb6b0-233f-456b-a375-419f8a2adcf9",
   "metadata": {},
   "outputs": [],
   "source": [
    "# Retrieve metadata for all movies in database\n",
    "metadata = load_metadata()"
   ]
  },
  {
   "cell_type": "markdown",
   "id": "5595c5d1-4746-4db9-8e1d-bc9a60ef2eb8",
   "metadata": {
    "tags": []
   },
   "source": [
    "## Preview sample movie"
   ]
  },
  {
   "cell_type": "code",
   "execution_count": null,
   "id": "61a0bc37",
   "metadata": {},
   "outputs": [],
   "source": [
    "# Load single movie\n",
    "movie = next(iter_movies(metadata))\n",
    "movie.deskewed"
   ]
  },
  {
   "cell_type": "code",
   "execution_count": null,
   "id": "57282d27",
   "metadata": {},
   "outputs": [],
   "source": [
    "# View image stack of specified channel\n",
    "movie.deskewed[channels[0]]"
   ]
  },
  {
   "cell_type": "code",
   "execution_count": null,
   "id": "a42f66dc",
   "metadata": {},
   "outputs": [],
   "source": [
    "# View image stack of specified frame and channel\n",
    "movie.deskewed[channels[0]].sel(t=6)"
   ]
  },
  {
   "cell_type": "markdown",
   "id": "95259ae4",
   "metadata": {
    "jp-MarkdownHeadingCollapsed": true,
    "tags": []
   },
   "source": [
    "# 3. Run analysis pipeline"
   ]
  },
  {
   "cell_type": "markdown",
   "id": "df694fe1",
   "metadata": {},
   "source": [
    "## Process all images"
   ]
  },
  {
   "cell_type": "code",
   "execution_count": null,
   "id": "a04264bf-95f5-413a-abbc-f41a9dd72578",
   "metadata": {},
   "outputs": [],
   "source": [
    "# Set list of movies to analyze\n",
    "movies = list()\n",
    "for _, row in metadata.iterrows():\n",
    "    args = row[['experiment', 'movie']]\n",
    "    movie = MultiChannelMovie.load(*args)\n",
    "    movies.append(movie)"
   ]
  },
  {
   "cell_type": "markdown",
   "id": "d79269ea-16fc-4b7e-912a-83db408b9e5d",
   "metadata": {
    "tags": []
   },
   "source": [
    "## Filter images"
   ]
  },
  {
   "cell_type": "code",
   "execution_count": null,
   "id": "d0264301-e36e-4d14-88c4-58f00884ed01",
   "metadata": {},
   "outputs": [],
   "source": [
    "# Filter the deskewed images and save as processed\n",
    "args = filter_image, 'deskewed', 'processed'\n",
    "kwargs = parameters['filter_image']\n",
    "\n",
    "apply_movies(movies, 'map_blocks', *args, **kwargs)"
   ]
  },
  {
   "cell_type": "markdown",
   "id": "ced160ed-399e-4ea8-8576-664d75a8f876",
   "metadata": {
    "tags": []
   },
   "source": [
    "## Locate blobs"
   ]
  },
  {
   "cell_type": "code",
   "execution_count": null,
   "id": "8560f3d0",
   "metadata": {},
   "outputs": [],
   "source": [
    "# Locate blobs in filtered images\n",
    "args = [locate_blobs, 'processed', None, 'blobs']\n",
    "kwargs = parameters['locate_blobs']\n",
    "\n",
    "apply_movies(movies, 'compute', *args, **kwargs)"
   ]
  },
  {
   "cell_type": "code",
   "execution_count": null,
   "id": "e97da17a-cb87-4ec5-8551-920e92a543d5",
   "metadata": {},
   "outputs": [],
   "source": [
    "# Visualize the results for all frames\n",
    "movie_index = 0\n",
    "movie = movies[movie_index]\n",
    "frames = movie.get_frames()\n",
    "movie.view_labels(use_filters=False, frames=frames)"
   ]
  },
  {
   "cell_type": "markdown",
   "id": "86cb0c06-feb0-4904-8c44-c7a8d4d17463",
   "metadata": {
    "tags": []
   },
   "source": [
    "## Calculate background"
   ]
  },
  {
   "cell_type": "code",
   "execution_count": null,
   "id": "eff96be0-3e70-4a09-ba8a-11f2eb05d6df",
   "metadata": {},
   "outputs": [],
   "source": [
    "for movie in tqdm(movies, total=len(movies)):\n",
    "    try:\n",
    "        # Generate cell mask based on min/mean projections across movie\n",
    "        print(f\"Calculating background of {str(movie)}...\")\n",
    "        \n",
    "        bgd_images = get_bgd_images(movie, **parameters['get_bgd_images'])\n",
    "        save_tif(movie, 'Background', bgd_images)\n",
    "        \n",
    "        cell_masks = {channel : get_cell_mask(bgd_image, **parameters['get_cell_mask']) for channel, bgd_image in bgd_images.items()}\n",
    "        save_tif(movie, 'CellMask', cell_masks)\n",
    "    except Exception as e:\n",
    "        print(f\"Error: {e}.\")"
   ]
  },
  {
   "cell_type": "markdown",
   "id": "f3cb0ed2-c836-47f5-8d85-f765af169765",
   "metadata": {
    "tags": []
   },
   "source": [
    "## Calculate intensities"
   ]
  },
  {
   "cell_type": "code",
   "execution_count": null,
   "id": "0cb3a7e1-6470-4d37-9771-b5f00c7193dc",
   "metadata": {},
   "outputs": [],
   "source": [
    "# Calculate blob intensities in filtered image\n",
    "param_dict = parameters['extract_intensities']\n",
    "\n",
    "for movie in tqdm(movies, total=len(movies)):\n",
    "    try:\n",
    "        # Configure channels from data\n",
    "        channels = movie.get_channels('deskewed')\n",
    "        frames = movie.get_frames('deskewed')\n",
    "        param_dict['labeled_dir'] = movie.metadata['paths']['labeled']\n",
    "        \n",
    "        for channel in channels:\n",
    "            tif_dir = os.path.join(param_dict['labeled_dir'], channel)\n",
    "            if overwrite and os.path.exists(tif_dir): shutil.rmtree(tif_dir)\n",
    "            if not os.path.exists(tif_dir): os.makedirs(tif_dir)\n",
    "        \n",
    "        # Set image metadata (mask from deskewed image is constant throughout)\n",
    "        skew_mask = movie._movies['deskewed'][channels[0]].sel(t=frames[0]).data.compute() > 0\n",
    "        \n",
    "        # Generate cell mask based on min/mean projections across movie\n",
    "        bgd_images = load_tif(movie, 'Background')\n",
    "        cell_masks = load_tif(movie, 'CellMask')\n",
    "        param_dict['images'] = {'skew_mask': skew_mask, 'cell_masks': cell_masks, 'bgd_images': bgd_images}\n",
    "        \n",
    "        args = extract_intensities, 'deskewed', 'blobs', 'intensities'\n",
    "        kwargs = {'overwrite': parameters['overwrite'], 'param_dict': param_dict}\n",
    "        \n",
    "        movie.compute(*args, **kwargs)\n",
    "    except Exception as e:\n",
    "        print(f\"Error: {e}.\")"
   ]
  },
  {
   "cell_type": "markdown",
   "id": "4563ac28-19be-4e6c-8f10-f08a2b77ad64",
   "metadata": {
    "tags": []
   },
   "source": [
    "## Filter particles"
   ]
  },
  {
   "cell_type": "code",
   "execution_count": null,
   "id": "401fe6dc-67c4-451a-bfee-3466ccbd5449",
   "metadata": {},
   "outputs": [],
   "source": [
    "movies = iter_movies(metadata)\n",
    "\n",
    "data_type_out = 'Filters'\n",
    "\n",
    "for movie in tqdm(movies, total=len(movies)):\n",
    "    try:\n",
    "        print(f\"Calculating {data_type_out} of {str(movie)}...\")\n",
    "        \n",
    "        # Cluster blobs into signal versus background\n",
    "        dict_out = cluster_blobs(movie, **parameters['template_radii'])\n",
    "\n",
    "        # Save final results as movie data\n",
    "        movie._data[data_type_out] = dict_out\n",
    "\n",
    "        # Export results to separate CSV for each channel\n",
    "        for channel, df in dict_out.items():\n",
    "            csv_path = os.path.join(movie.metadata['paths']['tracking'], \n",
    "                                    data_type_out.title() + '_' + channel + '.csv')\n",
    "            \n",
    "            df.to_csv(csv_path, index=False)\n",
    "\n",
    "        # Set the data types attributes\n",
    "        movie._data_types.add(data_type_out)\n",
    "\n",
    "        # Save updated parameters\n",
    "        movie.save()\n",
    "    except Exception as e:\n",
    "        print(f\"Error: {e}.\")"
   ]
  },
  {
   "cell_type": "code",
   "execution_count": null,
   "id": "d0fc184d-25d2-4932-9e41-fa0fdbd41a00",
   "metadata": {},
   "outputs": [],
   "source": [
    "# Visualize the results for all frames\n",
    "movie_index = 0\n",
    "movie = movies[movie_index]\n",
    "frames = movie.get_frames()\n",
    "movie.view_labels(use_filters=True, frames=frames)"
   ]
  },
  {
   "cell_type": "markdown",
   "id": "38e5d788-c39c-4fc3-9abb-6e79b4ff81bd",
   "metadata": {
    "tags": []
   },
   "source": [
    "## Track particles"
   ]
  },
  {
   "cell_type": "code",
   "execution_count": null,
   "id": "94438942-8395-4188-b553-e9b5d621dc6e",
   "metadata": {},
   "outputs": [],
   "source": [
    "data_type_out = 'Tracked'\n",
    "for movie in tqdm(movies, total=len(movies)):\n",
    "    try:\n",
    "        print(f\"Calculating {data_type_out} of {str(movie)}...\")\n",
    "        \n",
    "        # Calculate information for each pair of neighboring particles\n",
    "        movie._data['filters'] = load_csv(movie, 'filters')\n",
    "        link_tracks(movie, parameters['link_tracks'])\n",
    "\n",
    "        # Set the data types attributes\n",
    "        movie._data_types.add(data_type_out)\n",
    "\n",
    "        # Save updated parameters\n",
    "        movie.save()\n",
    "    except Exception as e:\n",
    "        print(f\"Error: {e}.\")"
   ]
  },
  {
   "cell_type": "markdown",
   "id": "04d9fa82-b2e1-465a-afce-c04a4d9bd05b",
   "metadata": {
    "tags": []
   },
   "source": [
    "## Identify nearby particles"
   ]
  },
  {
   "cell_type": "code",
   "execution_count": null,
   "id": "dff77c87-4342-4a13-9786-9a930280e5e9",
   "metadata": {},
   "outputs": [],
   "source": [
    "data_type_out = 'Neighbors'\n",
    "for movie in tqdm(movies, total=len(movies)):\n",
    "    try:\n",
    "        print(f\"Calculating {data_type_out} of {str(movie)}...\")\n",
    "        \n",
    "        # Calculate information for each pair of neighboring particles\n",
    "        movie._data['filters'] = load_csv(movie, 'filters')\n",
    "        \n",
    "        # Remove untracked and duplicate objects\n",
    "        movie._data['tracked'] = load_csv(movie, 'tracked')\n",
    "        \n",
    "        get_neighbors(movie, **parameters['get_neighbors'])\n",
    "\n",
    "        # Set the data types attributes\n",
    "        movie._data_types.add(data_type_out)\n",
    "\n",
    "        # Save updated parameters\n",
    "        movie.save()\n",
    "    except Exception as e:\n",
    "        print(f\"Error: {e}.\")"
   ]
  },
  {
   "cell_type": "markdown",
   "id": "799b90a9-cf06-42cb-af8c-ba4415e14502",
   "metadata": {
    "tags": []
   },
   "source": [
    "## Find collisions"
   ]
  },
  {
   "cell_type": "code",
   "execution_count": null,
   "id": "032679af-617b-4866-b20b-450e5305961a",
   "metadata": {},
   "outputs": [],
   "source": [
    "data_type_out = 'Collisions'\n",
    "for movie in tqdm(movies, total=len(metadata)):\n",
    "    try:\n",
    "        print(f\"Calculating {data_type_out} of {str(movie)}...\")\n",
    "        \n",
    "        \n",
    "        # Identify collisions\n",
    "        find_collisions(movie, **parameters['find_collisions'])\n",
    "        \n",
    "        # Print summary of results\n",
    "        num_collisions = len(movie._data['collisions'][channels[0]])\n",
    "        num_frames = len(movie.get_frames())\n",
    "        print(f\"Found a total of {num_collisions} collisions ({num_collisions * 60 / (params['frame_rate'] * num_frames):0.1f} per minute, \" + \\\n",
    "              f\"{num_collisions / num_frames:0.1f} per frame), with an average of \" + \\\n",
    "              f\" and \".join([f\"{int(movie._data['tracked'][channel].groupby('frame')['track'].count().mean())} {channel}s\" for channel in channels]) + ' per frame')\n",
    "        \n",
    "        # Set the data types attributes\n",
    "        movie._data_types.add(data_type_out)\n",
    "\n",
    "        # Save updated parameters\n",
    "        movie.save()\n",
    "    except Exception as e:\n",
    "        print(f\"Error: {e}.\")\n",
    "        raise"
   ]
  },
  {
   "cell_type": "markdown",
   "id": "e8d4cb06-3dc4-4b1a-a3bd-208f363c213a",
   "metadata": {
    "tags": []
   },
   "source": [
    "## Find conversions"
   ]
  },
  {
   "cell_type": "code",
   "execution_count": null,
   "id": "1148631c-63d6-4208-87d4-2ade8c2b942d",
   "metadata": {},
   "outputs": [],
   "source": [
    "data_type_out = 'Conversions'\n",
    "for movie in movies:\n",
    "    try:\n",
    "        print(f\"Calculating {data_type_out} of {str(movie)}...\")\n",
    "        \n",
    "        # Identify conversions\n",
    "        find_conversions(movie, **parameters['find_conversions'])\n",
    "        \n",
    "        # Print summary of results\n",
    "        num_overlaps = len(movie._data['conversions'][channels[0]])\n",
    "        num_conversions = sum(movie._data['conversions'][channels[0]]['conversion'])\n",
    "        num_frames = len(movie.get_frames())\n",
    "        print(f\"Found a total of {num_overlaps} overlaps and {num_conversions} conversions \" + \\\n",
    "              f\"({num_conversions * 60 / (params['frame_rate'] * num_frames):0.1f} per minute, \" + \\\n",
    "              f\"{num_conversions / num_frames:0.1f} per frame), with an average of \" + \\\n",
    "              f\" and \".join([f\"{int(movie._data['tracked'][channel].groupby('frame')['track'].count().mean())} {channel}s\" for channel in channels]) + ' per frame')\n",
    "        \n",
    "        # Set the data types attributes\n",
    "        movie._data_types.add(data_type_out)\n",
    "        \n",
    "        # Save updated parameters\n",
    "        movie.save()\n",
    "    except Exception as e:\n",
    "        print(f\"Error: {e}.\")"
   ]
  }
 ],
 "metadata": {
  "kernelspec": {
   "display_name": "Python 3 (ipykernel)",
   "language": "python",
   "name": "python3"
  },
  "language_info": {
   "codemirror_mode": {
    "name": "ipython",
    "version": 3
   },
   "file_extension": ".py",
   "mimetype": "text/x-python",
   "name": "python",
   "nbconvert_exporter": "python",
   "pygments_lexer": "ipython3",
   "version": "3.9.16"
  }
 },
 "nbformat": 4,
 "nbformat_minor": 5
}
